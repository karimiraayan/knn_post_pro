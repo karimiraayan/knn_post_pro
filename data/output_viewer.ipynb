{
 "cells": [
  {
   "cell_type": "code",
   "execution_count": 5,
   "metadata": {},
   "outputs": [],
   "source": [
    "import pickle\n",
    "import numpy as np\n",
    "import matplotlib\n",
    "import PIL\n",
    "PIL.Image\n",
    "outut_data = np.uint16(np.array(PIL.Image.open(\"output.png\"))/256)\n",
    "\n",
    "input_data = np.uint16(np.array(PIL.Image.open(\"depth2dImage.png\")))\n",
    "input_data=np.insert(input_data,1024,np.zeros(64),axis=1)\n",
    "input_data=np.insert(input_data,1025,np.zeros(64),axis=1)\n",
    "input_data=np.insert(input_data,0,np.zeros(64),axis=1)\n",
    "input_data=np.insert(input_data,0,np.zeros(64),axis=1)\n",
    "input_data=np.insert(input_data,64,np.zeros(1028),axis=0)\n",
    "input_data=np.insert(input_data,65,np.zeros(1028),axis=0)\n",
    "input_data=np.insert(input_data,0,np.zeros(1028),axis=0)\n",
    "input_data=np.insert(input_data,0,np.zeros(1028),axis=0)\n",
    "\n",
    "knn=np.zeros((1024*64,5*5))\n",
    "for v in range (64):\n",
    "    for u in range (1024):\n",
    "        for xix in range (5):\n",
    "            for vx in range (5):\n",
    "             knn [v*1024+u,xix*5+vx]=input_data[v+xix,u+vx]"
   ]
  },
  {
   "cell_type": "code",
   "execution_count": 8,
   "metadata": {},
   "outputs": [
    {
     "data": {
      "text/plain": [
       "(array([16384, 16384, 16384, ..., 65444, 65444, 65445]),\n",
       " array([2, 3, 4, ..., 0, 1, 0]))"
      ]
     },
     "execution_count": 8,
     "metadata": {},
     "output_type": "execute_result"
    }
   ],
   "source": [
    "\n",
    "        XX=outut_data[0:160000,:]==knn[0:160000,:]\n",
    "        np.where(XX==False)"
   ]
  }
 ],
 "metadata": {
  "interpreter": {
   "hash": "495847ca4d49c5daaf8fe12c868fa47f9a70031e6b10bf36fe46ebd7966de27f"
  },
  "kernelspec": {
   "display_name": "Python 3.10.4 64-bit",
   "language": "python",
   "name": "python3"
  },
  "language_info": {
   "codemirror_mode": {
    "name": "ipython",
    "version": 3
   },
   "file_extension": ".py",
   "mimetype": "text/x-python",
   "name": "python",
   "nbconvert_exporter": "python",
   "pygments_lexer": "ipython3",
   "version": "3.8.10"
  },
  "orig_nbformat": 4
 },
 "nbformat": 4,
 "nbformat_minor": 2
}
